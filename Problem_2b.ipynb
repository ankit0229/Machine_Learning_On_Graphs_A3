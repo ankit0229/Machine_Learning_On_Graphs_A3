{
 "cells": [
  {
   "cell_type": "code",
   "execution_count": 22,
   "metadata": {},
   "outputs": [],
   "source": [
    "import networkx\n",
    "import math\n",
    "import random\n",
    "import copy\n",
    "import matplotlib.pyplot as plt\n",
    "from collections import Counter\n",
    "from tqdm import tqdm \n",
    "import pickle"
   ]
  },
  {
   "cell_type": "code",
   "execution_count": 23,
   "metadata": {},
   "outputs": [],
   "source": [
    "Graph_2 = networkx.read_gpickle(\"Graph2\")"
   ]
  },
  {
   "cell_type": "code",
   "execution_count": 24,
   "metadata": {},
   "outputs": [],
   "source": [
    "dict_bfs_tree = {}\n",
    "dict_distances = {}\n",
    "dict_shortest_path_counts = {}\n",
    "dict_predecessors = {}\n",
    "list_nodes = list(Graph_2.nodes())\n",
    "len_list_nodes = len(list_nodes)\n",
    "#First initilaizing the dictionaries for different purpose\n",
    "for a in list_nodes:\n",
    "    dict_bfs_tree[a] = []\n",
    "    dict_distances[a] = []\n",
    "    dict_shortest_path_counts[a] = []\n",
    "    dict_predecessors[a] = []\n",
    "\n",
    "dict_dict_parents = {}\n",
    "for a in list_nodes:\n",
    "    dict_dict_parents[a] = copy.deepcopy(dict_predecessors)\n",
    "    \n",
    "val_infinity = math.inf\n",
    "for i in range(len_list_nodes):\n",
    "    curr_node = list_nodes[i]\n",
    "    temp = [val_infinity for j in range(len_list_nodes)]\n",
    "    dict_distances[curr_node] = temp\n",
    "    dict_distances[curr_node][curr_node] = 0\n",
    "    dict_shortest_path_counts[curr_node] = [0 for k in range(len_list_nodes)]\n",
    "    dict_shortest_path_counts[curr_node][curr_node] = 1\n",
    "    \n",
    "for v in list_nodes:\n",
    "    Graph_bfs = networkx.DiGraph()\n",
    "    for ip in range(len_list_nodes):\n",
    "        Graph_bfs.add_node(ip)\n",
    "    list_visited = [0 for i in range(len_list_nodes)]\n",
    "    bfs_queue = []\n",
    "    list_visited[v] = 1\n",
    "    bfs_queue.append(v)\n",
    "    \n",
    "    dict_prev = {}\n",
    "    list_source_distances = dict_distances[v]\n",
    "    list_source_counts = dict_shortest_path_counts[v]\n",
    "    while len(bfs_queue) > 0:\n",
    "        curr_node = bfs_queue.pop(0)\n",
    "        list_neighbours = [x for x in Graph_2.neighbors(curr_node)]\n",
    "        for nd in list_neighbours:\n",
    "            if list_visited[nd] == 0:\n",
    "                list_visited[nd] = 1\n",
    "                bfs_queue.append(nd)\n",
    "                Graph_bfs.add_edge(curr_node, nd)\n",
    "\n",
    "            if list_source_distances[nd] > list_source_distances[curr_node] + 1:\n",
    "                list_source_distances[nd] = list_source_distances[curr_node] + 1\n",
    "                list_source_counts[nd] = list_source_counts[curr_node]\n",
    "                dict_dict_parents[v][nd] = [curr_node]\n",
    "            \n",
    "            elif list_source_distances[nd] == list_source_distances[curr_node] + 1:\n",
    "                list_source_counts[nd] = list_source_counts[nd] + list_source_counts[curr_node]\n",
    "                dict_dict_parents[v][nd].append(curr_node)\n",
    "\n",
    "    dict_distances[v] = list_source_distances\n",
    "    dict_shortest_path_counts[v] = list_source_counts\n",
    "    dict_bfs_tree[v] = Graph_bfs"
   ]
  },
  {
   "cell_type": "code",
   "execution_count": 25,
   "metadata": {},
   "outputs": [],
   "source": [
    "\n",
    "dict_dependency_values = {}\n",
    "dict_dependency = {}\n",
    "edge_list = Graph_2.edges()\n",
    "counter_edges = Counter(edge_list)"
   ]
  },
  {
   "cell_type": "code",
   "execution_count": 26,
   "metadata": {},
   "outputs": [
    {
     "name": "stderr",
     "output_type": "stream",
     "text": [
      "100%|██████████████████████████████████████████████████████████████████████████████| 1000/1000 [07:49<00:00,  2.28it/s]\n"
     ]
    }
   ],
   "source": [
    "def find_dependency(src, edg):\n",
    "    u = edg[0]\n",
    "    v = edg[1]\n",
    "    distance_to_u = dict_distances[src][u]\n",
    "    distance_to_v = dict_distances[src][v]\n",
    "    if distance_to_u > distance_to_v:\n",
    "        temp_store = u\n",
    "        u = v\n",
    "        v = temp_store\n",
    "    value_dependency = dict_shortest_path_counts[src][u] / dict_shortest_path_counts[src][v]\n",
    "    if current_node_bfs_tree.out_degree(v) == 0:\n",
    "        if counter_edges[edg] == 1:\n",
    "            dict_dependency[src][edg] = value_dependency\n",
    "            return value_dependency\n",
    "        else:    \n",
    "            return value_dependency\n",
    "\n",
    "    else:\n",
    "        #Now find vertices which containg vertex v in their parent set\n",
    "        list_x_nodes = []\n",
    "        dict_curr_parents = dict_dict_parents[src]\n",
    "        for aq in dict_curr_parents:\n",
    "            list_parents = dict_curr_parents[aq]\n",
    "            if v in list_parents:\n",
    "                list_x_nodes.append(aq)\n",
    "\n",
    "        #Finding the value of summation\n",
    "        value_summation = 0\n",
    "        for x in list_x_nodes:\n",
    "            req_ed = (v, x)\n",
    "            if dict_dependency[src].get(req_ed) is None:\n",
    "                value_summation += find_dependency(src, req_ed)\n",
    "            else:    \n",
    "                value_summation += dict_dependency[src][req_ed]\n",
    "        final_val = value_dependency * (1 + value_summation)\n",
    "        if counter_edges[edg] == 1:\n",
    "            dict_dependency[src][edg] = final_val\n",
    "        else:\n",
    "            return final_val\n",
    "        \n",
    "#Now finding the dependency of each vertex on each of the edges in the graph\n",
    "list_edges = list(Graph_2.edges())\n",
    "for s in tqdm(list_nodes):\n",
    "    current_node_bfs_tree = dict_bfs_tree[s]\n",
    "    dict_dependency[s] = {}\n",
    "    \n",
    "    for e in list_edges:\n",
    "        if dict_dependency[s].get(e) is None:\n",
    "            dict_dependency[s][e] =  find_dependency(s, e)"
   ]
  },
  {
   "cell_type": "code",
   "execution_count": 27,
   "metadata": {},
   "outputs": [],
   "source": [
    "#Now finding the final edge betweeness value for each edge\n",
    "dict_edge_betweenness = {}\n",
    "for e in list_edges:\n",
    "    value_betweenness = 0\n",
    "    for n in dict_dependency:\n",
    "        value_betweenness += dict_dependency[n][e]\n",
    "    dict_edge_betweenness[e] = value_betweenness"
   ]
  },
  {
   "cell_type": "code",
   "execution_count": 28,
   "metadata": {},
   "outputs": [],
   "source": [
    "# print(dict_edge_betweenness)"
   ]
  },
  {
   "cell_type": "code",
   "execution_count": 29,
   "metadata": {},
   "outputs": [],
   "source": [
    "Picklefile1 = open('dictionary_betweenness_algo1', 'wb')\n",
    "pickle.dump(dict_edge_betweenness, Picklefile1)\n",
    "Picklefile1.close()\n",
    "print(\"Dictionary pic\")\n"
   ]
  }
 ],
 "metadata": {
  "kernelspec": {
   "display_name": "Python 3",
   "language": "python",
   "name": "python3"
  },
  "language_info": {
   "codemirror_mode": {
    "name": "ipython",
    "version": 3
   },
   "file_extension": ".py",
   "mimetype": "text/x-python",
   "name": "python",
   "nbconvert_exporter": "python",
   "pygments_lexer": "ipython3",
   "version": "3.7.3"
  }
 },
 "nbformat": 4,
 "nbformat_minor": 2
}
