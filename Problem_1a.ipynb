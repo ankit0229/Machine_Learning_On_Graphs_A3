{
 "cells": [
  {
   "cell_type": "code",
   "execution_count": 28,
   "metadata": {},
   "outputs": [],
   "source": [
    "import networkx\n",
    "import math\n",
    "import matplotlib.pyplot as plt\n",
    "from collections import Counter\n",
    "import pickle\n",
    "from tqdm import tqdm"
   ]
  },
  {
   "cell_type": "code",
   "execution_count": 29,
   "metadata": {
    "scrolled": true
   },
   "outputs": [],
   "source": [
    "G1 = networkx.Graph()\n",
    "G2 = networkx.Graph()\n",
    "count_total_nodes = 10000\n",
    "#First adding 10000 nodes to the graph\n",
    "for i in range(count_total_nodes):\n",
    "    G1.add_node(str(i))\n",
    "    G2.add_node(str(i))\n",
    "\n",
    "\n",
    "#Reading the edge list of G1 and adding the edges\n",
    "fp = open(\"g1.edgelist.txt\", \"r\")\n",
    "text = fp.read()\n",
    "list_lines = text.split(\"\\n\")\n",
    "list_triples = [a.split() for a in list_lines]\n",
    "for x in list_triples:\n",
    "    G1.add_edge(x[0], x[1])\n",
    "\n",
    "#Reading the edge list of G2 and adding the edges\n",
    "fp = open(\"g2.edgelist.txt\", \"r\")\n",
    "text = fp.read()\n",
    "list_lines = text.split(\"\\n\")\n",
    "list_triples = [a.split() for a in list_lines]\n",
    "for x in list_triples:\n",
    "    G2.add_edge(x[0], x[1])\n",
    "\n",
    "# print(G1.number_of_nodes())\n",
    "# print(G1.number_of_edges())\n",
    "# print(G2.number_of_nodes())\n",
    "# print(G2.number_of_edges())\n",
    "dict_support = {}\n",
    "#Now initializing each node with the candidate it supports\n",
    "for i in range(count_total_nodes):\n",
    "    n = str(i)\n",
    "    len_n = len(n)\n",
    "    last_digit = n[len_n - 1]\n",
    "    dict_temp = {}\n",
    "    if last_digit == '0' or last_digit == '1' or last_digit == '2' or last_digit == '3':\n",
    "        dict_temp['support'] = 'B'\n",
    "    elif last_digit == '4' or last_digit == '5' or last_digit == '6' or last_digit == '7':\n",
    "        dict_temp['support'] = 'A'\n",
    "    else:\n",
    "        dict_temp['support'] = 'U'\n",
    "    dict_support[n] = dict_temp\n",
    "networkx.set_node_attributes(G1, dict_support)\n",
    "networkx.set_node_attributes(G2, dict_support)"
   ]
  },
  {
   "cell_type": "code",
   "execution_count": 30,
   "metadata": {},
   "outputs": [
    {
     "name": "stdout",
     "output_type": "stream",
     "text": [
      "For G1  Counter({'B': 4000, 'A': 4000, 'U': 2000})\n",
      "For G2  Counter({'B': 4000, 'A': 4000, 'U': 2000})\n"
     ]
    }
   ],
   "source": [
    "g1_supporting_list = [G1.nodes[x]['support'] for x in G1.nodes()]\n",
    "g2_supporting_list = [G2.nodes[x]['support'] for x in G2.nodes()]\n",
    "print(f\"For G1  {Counter(g1_supporting_list)}\")\n",
    "print(f\"For G2  {Counter(g2_supporting_list)}\")"
   ]
  },
  {
   "cell_type": "code",
   "execution_count": 31,
   "metadata": {},
   "outputs": [
    {
     "name": "stdout",
     "output_type": "stream",
     "text": [
      "For graph 1\n",
      "count of A = 4937\n",
      "count of B = 5063\n",
      "In Graph 1 contestant B wins by 126 votes\n",
      "For graph 2\n",
      "count of A = 4913\n",
      "count of B = 5087\n",
      "In Graph 2 contestant B wins by 174 votes\n"
     ]
    }
   ],
   "source": [
    "#Now running the iterations for Graph 1\n",
    "no_of_iterations = 7\n",
    "global_alternate = 'A'\n",
    "list_undecided = []\n",
    "for ab in range(0, count_total_nodes):\n",
    "    cn = str(ab)\n",
    "    if G1.nodes[cn]['support'] == 'U':\n",
    "        list_undecided.append(cn)\n",
    "    \n",
    "for it_cnt in range(no_of_iterations):\n",
    "    for curr_node in list_undecided:\n",
    "        list_neighbours = [n for n in G1.neighbors(curr_node)]\n",
    "#         list_neighbours = list(G1.neighbours(curr_node))\n",
    "        list_supporting = [G1.nodes[x]['support'] for x in list_neighbours]\n",
    "        cntr_supporting = Counter(list_supporting)\n",
    "        count_A = cntr_supporting['A']\n",
    "        count_B = cntr_supporting['B']\n",
    "        if count_A > count_B:\n",
    "            G1.nodes[curr_node]['support'] = 'A'\n",
    "        elif count_B > count_A:\n",
    "            G1.nodes[curr_node]['support'] = 'B'\n",
    "        else:\n",
    "            G1.nodes[curr_node]['support'] = global_alternate\n",
    "            if global_alternate == 'A':\n",
    "                global_alternate = 'B'\n",
    "            else:\n",
    "                global_alternate = 'A'\n",
    "\n",
    "list_all_supporting_1 = [G1.nodes[y]['support'] for y in G1.nodes()]\n",
    "counter_all_supporting_1 = Counter(list_all_supporting_1)\n",
    "cnt_A_1 = counter_all_supporting_1['A']\n",
    "cnt_B_1 = counter_all_supporting_1['B']\n",
    "print(\"For graph 1\")\n",
    "print(f\"count of A = {cnt_A_1}\")\n",
    "print(f\"count of B = {cnt_B_1}\")\n",
    "if cnt_A_1 > cnt_B_1:\n",
    "    diff = cnt_A_1 - cnt_B_1\n",
    "    print(f\"In Graph 1 contestant A wins by {diff} votes\")\n",
    "else:\n",
    "    diff = cnt_B_1 - cnt_A_1\n",
    "    print(f\"In Graph 1 contestant B wins by {diff} votes\")\n",
    "    \n",
    "#Now running the iterations for Graph 2\n",
    "global_alternate = 'A'\n",
    "list_undecided = []\n",
    "for ab in range(0, count_total_nodes):\n",
    "    cn = str(ab)\n",
    "    if G2.nodes[cn]['support'] == 'U':\n",
    "        list_undecided.append(cn)\n",
    "    \n",
    "for it_cnt in range(no_of_iterations):\n",
    "    for curr_node in list_undecided:\n",
    "        list_neighbours = [n for n in G2.neighbors(curr_node)]\n",
    "#             list_neighbours = list(G1.neighbours(curr_node))\n",
    "        list_supporting = [G2.nodes[x]['support'] for x in list_neighbours]\n",
    "        cntr_supporting = Counter(list_supporting)\n",
    "        count_A = cntr_supporting['A']\n",
    "        count_B = cntr_supporting['B']\n",
    "        if count_A > count_B:\n",
    "            G2.nodes[curr_node]['support'] = 'A'\n",
    "        elif count_B > count_A:\n",
    "            G2.nodes[curr_node]['support'] = 'B'\n",
    "        else:\n",
    "            G2.nodes[curr_node]['support'] = global_alternate\n",
    "            if global_alternate == 'A':\n",
    "                global_alternate = 'B'\n",
    "            else:\n",
    "                global_alternate = 'A'\n",
    "\n",
    "list_all_supporting_2 = [G2.nodes[y]['support'] for y in G2.nodes()]\n",
    "counter_all_supporting_2 = Counter(list_all_supporting_2)\n",
    "cnt_A_2 = counter_all_supporting_2['A']\n",
    "cnt_B_2 = counter_all_supporting_2['B']\n",
    "print(\"For graph 2\")\n",
    "print(f\"count of A = {cnt_A_2}\")\n",
    "print(f\"count of B = {cnt_B_2}\")\n",
    "if cnt_A_2 > cnt_B_2:\n",
    "    diff = cnt_A_2 - cnt_B_2\n",
    "    print(f\"In Graph 2 contestant A wins by {diff} votes\")\n",
    "else:\n",
    "    diff = cnt_B_2 - cnt_A_2\n",
    "    print(f\"In Graph 2 contestant B wins by {diff} votes\")"
   ]
  },
  {
   "cell_type": "code",
   "execution_count": 32,
   "metadata": {},
   "outputs": [
    {
     "data": {
      "image/png": "[encoded data removed]",
      "text/plain": [
       "<Figure size 576x576 with 1 Axes>"
      ]
     },
     "metadata": {},
     "output_type": "display_data"
    }
   ],
   "source": [
    "import math\n",
    "list_degrees_1 = [d for n, d in G1.degree()]\n",
    "list_degrees_2 = [d for n, d in G2.degree()]\n",
    "\n",
    "dict_degrees_1 = Counter(list_degrees_1)\n",
    "x_cord_1 = [k for k in dict_degrees_1]\n",
    "y_cord_1 = [math.log10(dict_degrees_1[k]) for k in dict_degrees_1]\n",
    "dict_degrees_2 = Counter(list_degrees_2)\n",
    "x_cord_2 = [l for l in dict_degrees_2]\n",
    "y_cord_2 = [math.log10(dict_degrees_2[l]) for l in dict_degrees_2]\n",
    "\n",
    "plt.style.use('seaborn-darkgrid')\n",
    "plt.figure(figsize = (8, 8))\n",
    "plt.scatter(x_cord_1, y_cord_1, label= \"Graph 1\", color= \"red\",  marker= \"+\", s=40) \n",
    "\n",
    "plt.scatter(x_cord_2, y_cord_2, label= \"Graph 2\", color= \"green\",  marker= \"*\", s=40) \n",
    "plt.xticks(fontsize = 14)\n",
    "plt.yticks(fontsize = 14)\n",
    "plt.xlabel('degree', fontsize = 14)\n",
    "plt.ylabel('log count(degree)', fontsize = 14)\n",
    "plt.legend() \n",
    "plt.show()"
   ]
  },
  {
   "cell_type": "code",
   "execution_count": 33,
   "metadata": {},
   "outputs": [],
   "source": [
    "list_deg_1 = []\n",
    "list_deg_2 = []\n",
    "for t in range(3000, 3100):\n",
    "    nd = str(t)\n",
    "    list_deg_1.append(G1.degree[nd])\n",
    "    list_deg_2.append(G2.degree[nd])"
   ]
  },
  {
   "cell_type": "code",
   "execution_count": 34,
   "metadata": {},
   "outputs": [],
   "source": [
    "import statistics\n",
    "avg_deg_1 = statistics.mean(list_deg_1)\n",
    "avg_deg_2 = statistics.mean(list_deg_2)"
   ]
  },
  {
   "cell_type": "code",
   "execution_count": 35,
   "metadata": {},
   "outputs": [
    {
     "name": "stdout",
     "output_type": "stream",
     "text": [
      "Average degree of nodes 3000-3099 in Graph 1 = 20.19\n",
      "Average degree of nodes 3000-3099 in Graph 2 = 18.27\n"
     ]
    }
   ],
   "source": [
    "print(f\"Average degree of nodes 3000-3099 in Graph 1 = {avg_deg_1}\")\n",
    "print(f\"Average degree of nodes 3000-3099 in Graph 2 = {avg_deg_2}\")"
   ]
  },
  {
   "cell_type": "code",
   "execution_count": null,
   "metadata": {},
   "outputs": [],
   "source": []
  }
 ],
 "metadata": {
  "kernelspec": {
   "display_name": "Python 3",
   "language": "python",
   "name": "python3"
  },
  "language_info": {
   "codemirror_mode": {
    "name": "ipython",
    "version": 3
   },
   "file_extension": ".py",
   "mimetype": "text/x-python",
   "name": "python",
   "nbconvert_exporter": "python",
   "pygments_lexer": "ipython3",
   "version": "3.7.3"
  }
 },
 "nbformat": 4,
 "nbformat_minor": 2
}
