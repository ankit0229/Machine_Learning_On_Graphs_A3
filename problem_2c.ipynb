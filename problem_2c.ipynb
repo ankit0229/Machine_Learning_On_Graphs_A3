{
 "cells": [
  {
   "cell_type": "code",
   "execution_count": 13,
   "metadata": {},
   "outputs": [],
   "source": [
    "import networkx\n",
    "import math\n",
    "import random\n",
    "import copy\n",
    "import matplotlib.pyplot as plt\n",
    "from collections import Counter\n",
    "from tqdm import tqdm \n",
    "import pickle\n",
    "import sys "
   ]
  },
  {
   "cell_type": "code",
   "execution_count": 14,
   "metadata": {},
   "outputs": [],
   "source": [
    "Graph_2 = networkx.read_gpickle(\"Graph2\")"
   ]
  },
  {
   "cell_type": "code",
   "execution_count": 15,
   "metadata": {},
   "outputs": [],
   "source": [
    "# print(Graph_2.number_of_nodes())\n",
    "# print(Graph_2.number_of_edges())\n",
    "list_edges = list(Graph_2.edges())\n",
    "list_nodes = list(Graph_2.nodes())\n",
    "value_c = 5"
   ]
  },
  {
   "cell_type": "code",
   "execution_count": 16,
   "metadata": {},
   "outputs": [],
   "source": [
    "dict_dependency = {}\n",
    "dict_bfs_tree = {}\n",
    "dict_distances = {}\n",
    "dict_shortest_path_counts = {}\n",
    "dict_predecessors = {}\n",
    "dict_dict_parents = {}\n",
    "count_nodes = Graph_2.number_of_nodes()"
   ]
  },
  {
   "cell_type": "code",
   "execution_count": 17,
   "metadata": {},
   "outputs": [],
   "source": [
    "dict_edge_betweenness = {}\n",
    "for ede in list_edges:\n",
    "    dict_edge_betweenness[ede] = 0\n",
    "edge_list = Graph_2.edges()\n",
    "counter_edges = Counter(edge_list)"
   ]
  },
  {
   "cell_type": "code",
   "execution_count": 18,
   "metadata": {},
   "outputs": [],
   "source": [
    "def find_dependency(src, edg):\n",
    "    global dict_dependency\n",
    "    u = edg[0]\n",
    "    v = edg[1]\n",
    "    distance_to_u = dict_distances[src][u]\n",
    "    distance_to_v = dict_distances[src][v]\n",
    "    if distance_to_u > distance_to_v:\n",
    "        temp_store = u\n",
    "        u = v\n",
    "        v = temp_store\n",
    "    value_dependency = dict_shortest_path_counts[src][u] / dict_shortest_path_counts[src][v]\n",
    "    if current_node_bfs_tree.out_degree(v) == 0:\n",
    "        if counter_edges[edg] == 1:\n",
    "            dict_dependency[src][edg] = value_dependency\n",
    "            return value_dependency\n",
    "        else:    \n",
    "            return value_dependency\n",
    "\n",
    "    else:\n",
    "        #Now find vertices which containg vertex v in their parent set\n",
    "        list_x_nodes = []\n",
    "        dict_curr_parents = dict_dict_parents[src]\n",
    "        for aq in dict_curr_parents:\n",
    "            list_parents = dict_curr_parents[aq]\n",
    "            if v in list_parents:\n",
    "                list_x_nodes.append(aq)\n",
    "\n",
    "        #Finding the value of summation\n",
    "        value_summation = 0\n",
    "        for x in list_x_nodes:\n",
    "            req_ed = (v, x)\n",
    "            if dict_dependency[src].get(req_ed) is None:\n",
    "                value_summation += find_dependency(src, req_ed)\n",
    "            else:    \n",
    "                value_summation += dict_dependency[src][req_ed]\n",
    "        final_val = value_dependency * (1 + value_summation)\n",
    "        if counter_edges[edg] == 1:\n",
    "            dict_dependency[src][edg] = final_val\n",
    "        else:\n",
    "            return final_val\n",
    "\n",
    "def edge_betweenness(start_node):\n",
    "    global dict_dependency\n",
    "    dict_dependency[start_node] = {}\n",
    "    global current_node_bfs_tree \n",
    "    current_node_bfs_tree = dict_bfs_tree[start_node]\n",
    "    for e in list_edges:\n",
    "        if dict_dependency[start_node].get(e) is None:\n",
    "            dict_dependency[start_node][e] =  find_dependency(start_node, e)"
   ]
  },
  {
   "cell_type": "code",
   "execution_count": 19,
   "metadata": {},
   "outputs": [
    {
     "name": "stdout",
     "output_type": "stream",
     "text": [
      "Maximum no. of samples drawn\n"
     ]
    }
   ],
   "source": [
    "len_list_nodes = len(list_nodes)\n",
    "#First initilaizing the dictionaries for different purpose\n",
    "for a in list_nodes:\n",
    "    dict_bfs_tree[a] = []\n",
    "    dict_distances[a] = []\n",
    "    dict_shortest_path_counts[a] = []\n",
    "    dict_predecessors[a] = []\n",
    "\n",
    "for a in list_nodes:\n",
    "    dict_dict_parents[a] = copy.deepcopy(dict_predecessors)\n",
    "    \n",
    "val_infinity = math.inf\n",
    "for i in range(len_list_nodes):\n",
    "    curr_node = list_nodes[i]\n",
    "    temp = [val_infinity for j in range(len_list_nodes)]\n",
    "    dict_distances[curr_node] = temp\n",
    "    dict_distances[curr_node][curr_node] = 0\n",
    "    dict_shortest_path_counts[curr_node] = [0 for k in range(len_list_nodes)]\n",
    "    dict_shortest_path_counts[curr_node][curr_node] = 1\n",
    "    \n",
    "k_val = 0\n",
    "while k_val < int(count_nodes / 10):\n",
    "    k_val += 1\n",
    "    sample_node = random.randint(0, 999)\n",
    "    Graph_bfs = networkx.DiGraph()\n",
    "    v = copy.deepcopy(sample_node)\n",
    "    \n",
    "    list_visited = [0 for i in range(len_list_nodes)]\n",
    "    bfs_queue = []\n",
    "    list_visited[v] = 1\n",
    "    bfs_queue.append(v)\n",
    "    \n",
    "    list_bfs_tree = []\n",
    "    dict_prev = {}\n",
    "    list_source_distances = dict_distances[v]\n",
    "    list_source_counts = dict_shortest_path_counts[v]\n",
    "    while len(bfs_queue) > 0:\n",
    "        curr_node = bfs_queue.pop(0)\n",
    "        if curr_node != v:\n",
    "            Graph_bfs.add_edge(dict_prev[curr_node], curr_node)\n",
    "        list_neighbours = [x for x in Graph_2.neighbors(curr_node)]\n",
    "        for nd in list_neighbours:\n",
    "            if list_visited[nd] == 0:\n",
    "                list_visited[nd] = 1\n",
    "                bfs_queue.append(nd)\n",
    "                dict_prev[nd] = curr_node\n",
    "            \n",
    "            if list_source_distances[nd] > list_source_distances[curr_node] + 1:\n",
    "                list_source_distances[nd] = list_source_distances[curr_node] + 1\n",
    "                list_source_counts[nd] = list_source_counts[curr_node]\n",
    "                dict_dict_parents[v][nd] = [curr_node]\n",
    "            \n",
    "            elif list_source_distances[nd] == list_source_distances[curr_node] + 1:\n",
    "                list_source_counts[nd] = list_source_counts[nd] + list_source_counts[curr_node]\n",
    "                dict_dict_parents[v][nd].append(curr_node)\n",
    "\n",
    "    dict_distances[v] = list_source_distances\n",
    "    dict_shortest_path_counts[v] = list_source_counts\n",
    "    dict_bfs_tree[v] = Graph_bfs\n",
    "    for b in dict_dict_parents[v]:\n",
    "        temp_list = dict_dict_parents[v][b]\n",
    "        x = set(temp_list)\n",
    "        list_set = copy.deepcopy(list(x))\n",
    "        flag = 0\n",
    "        for i in range(len(list_set)):\n",
    "            if list_set[i] == b:\n",
    "                flag = 1\n",
    "                break\n",
    "        if flag == 1:\n",
    "            del list_set[i]\n",
    "        dict_dict_parents[a][b] = copy.deepcopy(list_set)\n",
    "    \n",
    "    #Calling the function which is preparing the dictionary containing the betweenness values of all edges for vertex v\n",
    "    edge_betweenness(v)\n",
    "    \n",
    "    #Maintaing the running sum delta e in the dictionary dict_edge_betweenness\n",
    "    for e in list_edges:\n",
    "        dict_edge_betweenness[e] += dict_dependency[v][e]\n",
    "    \n",
    "    #Now checking if all delta e values are greater than cn\n",
    "    global flag_sampling\n",
    "    flag_sampling = 0\n",
    "    for edge in dict_edge_betweenness:\n",
    "        if dict_edge_betweenness[edge] <= (value_c * count_nodes):\n",
    "            flag_sampling = 1\n",
    "            break\n",
    "    \n",
    "    if flag_sampling == 0:\n",
    "        break\n",
    "    \n",
    "\n",
    "if flag_sampling == 0:\n",
    "    print(\"Condition satisfied by delta e\")\n",
    "else:\n",
    "    print(\"Maximum no. of samples drawn\")"
   ]
  },
  {
   "cell_type": "code",
   "execution_count": 20,
   "metadata": {},
   "outputs": [],
   "source": [
    "for edg in dict_edge_betweenness:\n",
    "    dict_edge_betweenness[edg] = (count_nodes / k_val) * dict_edge_betweenness[edg]"
   ]
  },
  {
   "cell_type": "code",
   "execution_count": 21,
   "metadata": {},
   "outputs": [],
   "source": [
    "# print(dict_edge_betweenness)"
   ]
  },
  {
   "cell_type": "code",
   "execution_count": 22,
   "metadata": {},
   "outputs": [],
   "source": [
    "Picklefile2 = open('dictionary_betweenness_algo2', 'wb')\n",
    "pickle.dump(dict_edge_betweenness, Picklefile2)\n",
    "Picklefile2.close()"
   ]
  },
  {
   "cell_type": "code",
   "execution_count": null,
   "metadata": {},
   "outputs": [],
   "source": []
  }
 ],
 "metadata": {
  "kernelspec": {
   "display_name": "Python 3",
   "language": "python",
   "name": "python3"
  },
  "language_info": {
   "codemirror_mode": {
    "name": "ipython",
    "version": 3
   },
   "file_extension": ".py",
   "mimetype": "text/x-python",
   "name": "python",
   "nbconvert_exporter": "python",
   "pygments_lexer": "ipython3",
   "version": "3.7.3"
  }
 },
 "nbformat": 4,
 "nbformat_minor": 2
}
